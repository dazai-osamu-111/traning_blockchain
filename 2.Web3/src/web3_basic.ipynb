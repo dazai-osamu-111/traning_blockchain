{
 "cells": [
  {
   "cell_type": "markdown",
   "metadata": {},
   "source": [
    "# Web3 Python căn bản\n",
    "\n",
    "## Nội dung\n",
    "1. Những kiến thức cần tìm hiểu\n",
    "2. Kết nối Binance Smart Chain public node\n",
    "3. Thu thập dữ liệu smart contract\n",
    "4. Thực hành thu thập dữ liệu của Valas <br>\n",
    "    4.1. Lấy data từ functions của contract <br>\n",
    "    4.2. Lấy data từ events của contract <br>\n",
    "    4.3. Thu thập nhiều loại dữ liệu event một lúc\n",
    "\n",
    "## 1. Những kiến thức cần tìm hiểu trước khi thu thập dữ liệu trên blockchain\n",
    "\n",
    "- Ethereum Virtual Machine là gì? [link](https://ethereum.org/en/developers/docs/evm/)\n",
    "- Application Binary Interface là gì? [link](https://www.quicknode.com/guides/solidity/what-is-an-abi) và [link](https://docs.soliditylang.org/en/develop/abi-spec.html#abi-json)\n",
    "- Light, full and archive ethereum node là gì? [link](https://www.quicknode.com/guides/infrastructure/ethereum-full-node-vs-archive-node) và [link](https://link.springer.com/chapter/10.1007/978-1-4842-3492-1_2)\n",
    "- Các nguồn tham khảo\n",
    "    * [Ethereum docs](https://ethereum.org/en/developers/docs/)\n",
    "    * [Web3 python docs](https://web3py.readthedocs.io/en/stable/)\n",
    "    * [Ethereum JSON-RPC - Postman](https://documenter.getpostman.com/view/4117254/ethereum-json-rpc/RVu7CT5J)\n"
   ]
  },
  {
   "cell_type": "markdown",
   "metadata": {},
   "source": [
    "## 2. Kết nối binance smart chain public node\n",
    "- Đầu tiên, dữ liệu được lưu trên các blockchain nodes. Ta cần kết nối với các node này để lấy dữ liệu, sử dụng một provide URL\n",
    "    - Tìm kiếm \"rpc node\" của các mạng blockchain (eg. ethereum rpc, bsc rpc, ftm rpc, etc.) [link](https://rpc.info/)\n",
    "    - Tại chuỗi thực hành này, mình sử dụng provider url của binance smart chain ([bsc rpc](https://docs.bscscan.com/misc-tools-and-utilities/public-rpc-nodes))\n",
    "- Sau đó, ta sử dụng provider URL vừa lấy được để kết nối với một node của BSC chain  \n",
    "    - Kiểm tra kết nối với node của mainnet\n",
    "    - Lấy dữ liệu của block mới nhất"
   ]
  },
  {
   "cell_type": "code",
   "execution_count": 1,
   "metadata": {},
   "outputs": [
    {
     "name": "stdout",
     "output_type": "stream",
     "text": [
      "Successful Connection: True \n",
      "The latest blocknumber is: 27883296\n"
     ]
    }
   ],
   "source": [
    "from web3 import HTTPProvider\n",
    "from web3 import Web3\n",
    "from web3.middleware import geth_poa_middleware\n",
    "import time\n",
    "import json\n",
    "\n",
    "provider_url = \"https://bsc-dataseed4.binance.org/\" # rpc link\n",
    "web3 = Web3(HTTPProvider(provider_url))\n",
    "web3.middleware_onion.inject(geth_poa_middleware, layer=0)\n",
    "\n",
    "#check connect successfull\n",
    "isConnected = web3.isConnected()\n",
    "print(f\"Successful Connection: {isConnected} \")\n",
    "#check latest blocknumber\n",
    "blocknumber = web3.eth.blockNumber\n",
    "print(f\"The latest blocknumber is: {blocknumber}\")"
   ]
  },
  {
   "cell_type": "code",
   "execution_count": 2,
   "metadata": {},
   "outputs": [
    {
     "data": {
      "text/plain": [
       "AttributeDict({'difficulty': 2,\n",
       " 'proofOfAuthorityData': HexBytes('0xd883010115846765746888676f312e32302e31856c696e7578000000f98d107276307f0f5ba213eaf1cc5feb592d9b3f6a19d8a06787a49f1e528b8dcab45d6b12ae65e6dad28c37f5e842ca6f1f1c7165fa86fdf9cc1e72b8041c7583be4ffd00'),\n",
       " 'gasLimit': 139453126,\n",
       " 'gasUsed': 25623192,\n",
       " 'hash': HexBytes('0x43cb76e4d8e9c1b365d21c52b1e8268751d5612ff6b8aed91f6956f9b2f8568c'),\n",
       " 'logsBloom': HexBytes('0xbaedf6f5eb7f7f96f7f6bafcf3ff1dc3ed93eeffab7e81ffbfdf2ffdffced7fbffff5fbcfbbff3abf375fdf0ed7ebffb2dddd3ff3deb17f316fbeebffcb75ed6fffffdf3bf737ff375e7bc5fbbf0e5fbf8fc282ffb57fbeedee74ffaff7dfd55bfdff7fffff6ff77f79dff97f7fefed3cdf7faef8ddfffff5df4fef7fdbfebd75faffff5eefdf7f9d3fd5df7ffc7c9bffdfdc7df7f2edf7ffb4f7cf3f7c3ebb9baef4c77f78793fb6fbffade3e574fffd6ff99dae2c6ffffffcffdffbdffa7fde73d7dbfaf5f3fb75df797fefcefdebff7e7be7fed6ff6f6f7f5d5e2dd8fed77f733fffbd376d53e9fe1ff6fffffffb6f63ebffddbf7777fef9fcf27fd81fe1c'),\n",
       " 'miner': '0x0BAC492386862aD3dF4B666Bc096b0505BB694Da',\n",
       " 'mixHash': HexBytes('0x0000000000000000000000000000000000000000000000000000000000000000'),\n",
       " 'nonce': HexBytes('0x0000000000000000'),\n",
       " 'number': 27883296,\n",
       " 'parentHash': HexBytes('0x3ceb6d0fd12397f1a5c390641984dce06998d936fa2a3cd86dcaf7f5011b3c1f'),\n",
       " 'receiptsRoot': HexBytes('0x52225088c0f7187fe851c0badb5dfa9a00c1d6ef89414ebb03ae14998c8e0b41'),\n",
       " 'sha3Uncles': HexBytes('0x1dcc4de8dec75d7aab85b567b6ccd41ad312451b948a7413f0a142fd40d49347'),\n",
       " 'size': 80516,\n",
       " 'stateRoot': HexBytes('0xa9b9420edbe9b54236e6e6bb7a5200fa5aa9b8f252be91b4988af8090eb5f887'),\n",
       " 'timestamp': 1683106414,\n",
       " 'totalDifficulty': 55412217,\n",
       " 'transactions': [HexBytes('0x2170878f6cba475bfc436cec8eaa39dd5e8d6a66b01dc51595a433675ae6a13e'),\n",
       "  HexBytes('0xae94f454a825a759d17cfc24147891c894bf7ea34d5beb64b9d1b3469d398600'),\n",
       "  HexBytes('0x6f125df780f309367df6c2777aa33287a33942e1fa9faede0986310d0206d3ea'),\n",
       "  HexBytes('0x65f38d8e35cd5523a2e79b71afdf70475827ee639c458e64e88f10b7d67db27f'),\n",
       "  HexBytes('0x70a5a0225f91437cc15a8bf918d3725107a2bc4116c8a353f112a07634167661'),\n",
       "  HexBytes('0x3894b9affdc334fd57559d6272d03b570a51828837b6a7589d576aa0acd34f2c'),\n",
       "  HexBytes('0x28beeb7d9d796a8808cec49b78b97fd979045ac9935223afa16e38bd9460e0fb'),\n",
       "  HexBytes('0x372b4a97d3cde0d47ae2fe9dc813c05fb838274f99e2100edb139a6b1a72afd2'),\n",
       "  HexBytes('0x34ce02f656c96cfb9406e5c52f23afca6b725e9a6d0152ff8258f26ef3e838a7'),\n",
       "  HexBytes('0xbeeb6edfc693881f9e077aa83835301fc2bed35b2989faa504575587e086a615'),\n",
       "  HexBytes('0x0396f1b8b1c7e742ba9605b254afee8b77dbe40afe202c1f8db3574bca27db9d'),\n",
       "  HexBytes('0xc4df4fb8678bbcc18e73aabc6bd75a4b23bfe2716cf5e70cd01e55cef68f0e9b'),\n",
       "  HexBytes('0xd89b6b8a0ee5ea89438cc95871473009f49a315b499f2585d926fdcfff4ec708'),\n",
       "  HexBytes('0x8b32e51677a0b389d6ff87274d37255dd3b83f7f9efd6456d6e1c1161a326001'),\n",
       "  HexBytes('0x001787781eec03859c6e38b6c5a7f51fe1c268937c6e54fff3fd691da7ed9879'),\n",
       "  HexBytes('0x18418c96cd8b24eef11683e9a31e5c21c3c2f9e9c4a14a63293ea9e459375137'),\n",
       "  HexBytes('0x9b5a831c69a6c86e6f3f76ad00f87e7ca57eec65520de0617eb748eba9ed5fc0'),\n",
       "  HexBytes('0x91d70520d716c5d325854016af48bcf1b9b7725582709c3893fbc2f901c7b5ab'),\n",
       "  HexBytes('0xf1b012bca753e1690b99c8c788b8983274276cdbb112ad012078928c488c291a'),\n",
       "  HexBytes('0x2dbe170f009982a9ae82b8327e5041c93da915e2dd3eb094db13563eb348ae3d'),\n",
       "  HexBytes('0x2451495b4d2fc64d6db487cc16bdb220318aed888691dc78c61f70efb845e010'),\n",
       "  HexBytes('0xc97f7e03df1a5a3e47320f1cd5dede636a03e927bc500c26ad9801d42996a5bf'),\n",
       "  HexBytes('0xca96a370cf079b4c56716a671d80d062258a9ea163a65ea05a709dd909ac4eb1'),\n",
       "  HexBytes('0x576bc810ecdfdaf4e469c2d61e8f13b6f3625c5240dd9b60bf96f7b87c3be5b7'),\n",
       "  HexBytes('0x32317e844cf1ae5d292c0b423dd0c9841b9f580741ecf4bc5dae80d2f1947a9e'),\n",
       "  HexBytes('0x276bb854a2d88e2d08b10a3ca403c8f1fc543b481966bf296609180c1259da7a'),\n",
       "  HexBytes('0x60735a63914ce416eae49ea88a3fc8016348ee9e4d7807674866f08032dd70d1'),\n",
       "  HexBytes('0x0ec9afe8cb8e173fcee8856a2d140a1cfac50d1b76a6ad62a4e0b9cb53eb93fd'),\n",
       "  HexBytes('0x073a53475686148d9eec652d10ce51dad52e42c2cfdfa08da66ec7af9e7af4fe'),\n",
       "  HexBytes('0xbb7d36b8dbd0b5952b7584c2ea1bfcde8f7d20550ec25ad62c50b53c86c957ba'),\n",
       "  HexBytes('0xb6336a772ae2f7aceb1c5431e68ee7d530b2e9d61a0617b2e97c4de1ff35f867'),\n",
       "  HexBytes('0x294d8d9c330a48b022c50331647f4e5871771ec07c722e3d35ff5e1b70fc0ea8'),\n",
       "  HexBytes('0xfb5453f75af0d84491eb6018344c79075df8ab9d56c3a238b0bbc900d4891398'),\n",
       "  HexBytes('0x33db9a37d33b9222c43457c063b00652885fb018ae1b7d2defd826a1c8d86385'),\n",
       "  HexBytes('0xb4a61161833532f7ac19c1ce38513f480d2e7eb79c8652b3dfdf39dbbaf3f065'),\n",
       "  HexBytes('0x6d05bfea45c6e3eb1c38dbcdd8f2d9048316509f7bab625c95440a000d0637d7'),\n",
       "  HexBytes('0x0fc04f99a2e5e4acbc1c56e3b536fa2c70717a41a21eabcb08ba85fd8aab7f2b'),\n",
       "  HexBytes('0xda128506d0e9f5dd3f6f4076db42d848aef68023ed447447824c1c6ad6d6f960'),\n",
       "  HexBytes('0x1d027764dee92400538913df5b30668c8c247f4318d35b72cca5661fae0e1ffe'),\n",
       "  HexBytes('0x2b3814ba0d6f0ef0a65011d44006ddda0ed1fb34f292ed318a02153df7fe3cfe'),\n",
       "  HexBytes('0x56ee6f71dea56db15209030d41013696f4775f68b13bd78c673019b8f3d6df3c'),\n",
       "  HexBytes('0x4b24ea746c75e7f7fbc1553e94e5a1c9b8486199e881ee8b2f05d936e5793281'),\n",
       "  HexBytes('0xc37e5a22cc568625572838b3efcf51accaa2f28197b3df720d7d511a637e8fad'),\n",
       "  HexBytes('0xf13c5728c236aca32191ceaa135ab317def5c6161c67467c4e62b471bb589d5a'),\n",
       "  HexBytes('0x394a93ea290dd3192217137ad596d69b6e6ee4dc83f0eaf2a8d33a679429fed1'),\n",
       "  HexBytes('0xc1f7798c1e983f2a1f35a4e46e8aaa94a7a0e0b99038ed1a9d67c7fb62ef31f2'),\n",
       "  HexBytes('0xbdfe4b7517215aae7d0c740148cef792520d151f93ea6dd7638f093bfbbc21da'),\n",
       "  HexBytes('0x5b9ad56e0b7a734efde2e667a6d5c16f62cd7d65cfa5141eaed106fab060aa05'),\n",
       "  HexBytes('0xfd25a7cffeee813526aaba3e2160fd8c2232d3f0c14d1ca3595b201cffaf0de4'),\n",
       "  HexBytes('0xd8986377e3ae6e0455a6392398cc77dbd84ffea80ed5e082e308bccc57bdccd1'),\n",
       "  HexBytes('0xa480ba1d52956f9e4335eee5d99099071bb52ca8d7bb885d51fd2a14eb9f32dd'),\n",
       "  HexBytes('0x5305dd87260219ae08f5ab7c15ffc6201679f2c2bc55a2945d9ef47602c03ff1'),\n",
       "  HexBytes('0x33fc426ab64888c07568ef1c50e727b175ac5c7aa94714874eb98329db9b542b'),\n",
       "  HexBytes('0x3a2ea2d68761500593124427ebf49f18d1c70bc74e19ac398ec1f0d837391c6a'),\n",
       "  HexBytes('0x826ff4831f53e58dbfc851074b3071207950b1ce009d9df173e01ccfb66b756c'),\n",
       "  HexBytes('0x43032ff2a7c6866f7c57a348b65d118513632ea48e128166f6dc33e72c813b3d'),\n",
       "  HexBytes('0x1bd50c4ea28610d0292f1b8045879fd552fd5399bbc5638946b8ded774231a22'),\n",
       "  HexBytes('0x51d366743fb27a0094dc4c2907c5f479551ac80953b46450adc3d92fdd8d1f9d'),\n",
       "  HexBytes('0x0e810713428a6e758b20c9cada7f658c510f31c6c8c18146f22794b4cc949271'),\n",
       "  HexBytes('0xc3f2d0716e66303f8d07850a4392ade563d951505e01641c2f25552be590533d'),\n",
       "  HexBytes('0x52611c15f2bd70ff9e3eee5e8304311f64053bd324ff646d78feeb230c1ac5d3'),\n",
       "  HexBytes('0xad5223d844654db14b0ca358296c80982d57f2454f46cec4764e138951148caa'),\n",
       "  HexBytes('0xefa0d1e56ea5c7197598c5e85db8203c0a615fc0f4d78ffcc31db140fac1dfdc'),\n",
       "  HexBytes('0xf96c3d7e0a902d19b2acb004cbfabb79eb05ad4d64eafee184ebdd1af2d72ef4'),\n",
       "  HexBytes('0xaccb7e0fd1b5ae83547c6c4cdbfabb1c43eb458b8b4449d50dc75c6f57b4d225'),\n",
       "  HexBytes('0xaed6e5186b21d50c94514f44271414c8841965f0d63dc8c6c28c970205c4c092'),\n",
       "  HexBytes('0xa72908c60a22546ba37865f6b2af34f647a500fe61e2c56785c89b21517ef4f2'),\n",
       "  HexBytes('0x37ab49578cb6bfc80bde5a4322f264f95f6c9748f3d0f815638835742649789a'),\n",
       "  HexBytes('0x5d913f1206e48ae752a1c8254a4470a271cb8391b0872e082c6ffb78d53a3782'),\n",
       "  HexBytes('0x7633ea07190847b75aa8344f01e710bfd139f316dd8e2590af2d24b4f45adbb5'),\n",
       "  HexBytes('0x6c54027ed4c4a45f858da6d35ab95ca4dfc6f7aeba0ff7ecf9349b7228eb4e42'),\n",
       "  HexBytes('0xb5e34c5a7efb6a65fc54b82e6ed62c4c9fd892cf35a69c6beb175201cbbfa654'),\n",
       "  HexBytes('0x4286ea743c66ae1030f5f5b0d173a90025aad730e4568cc592e4962fc87823a9'),\n",
       "  HexBytes('0x53cc8b57c5dc7c501e96b35d7e866a6d6883c64ca30620572dad44f847fe56c0'),\n",
       "  HexBytes('0xd697bd54aad6069053a55fafb0e8b928d9ef64d23e7587d852be938cfd478b55'),\n",
       "  HexBytes('0x7f48d67e82e61cf912f0f34dace9ba0c95f65819efd8905bba753076a3ce7bd1'),\n",
       "  HexBytes('0x80ee4d851a5d05f43b2fa63a6188ac1732d52eea2588471beddef5ef6ca451ed'),\n",
       "  HexBytes('0x72f915fa144aabceb88515b6c774f0ab6e55584671073dc5ebd787d2a0e758cd'),\n",
       "  HexBytes('0xe035645b811ffb11bc2b0136afbcced14a980da34e8169a88841fa56872bf2dc'),\n",
       "  HexBytes('0xc5d66fba4bd36b8f97ab3be6c9e1220848dc515779d2d13346bbc76ea029addd'),\n",
       "  HexBytes('0x9a4e27b5310bafc42d4fe6d233bd11e4dca347d145791128ac13946f7f329c95'),\n",
       "  HexBytes('0x7f0a475377538a4f11741dbdbf2285a426a6c34913bbf44206cc47561e851b9a'),\n",
       "  HexBytes('0x610a7962d06314572a548f13251f04b19fa76c7f68c22e8cb9e6ebe4d748a8b7'),\n",
       "  HexBytes('0xb3fcf2118fcbec6f022423ebe3b03b49037194c187eadcb269f7aeb9325985f9'),\n",
       "  HexBytes('0xcacbee27e88145123b67648da1c62f5da93a00fd6c29d7168ba619df4b164c9d'),\n",
       "  HexBytes('0xfd7df244b181be3181140ff394de5d4b3cf87320500beebc72d840f597d8abc7'),\n",
       "  HexBytes('0xb581e88a3c574ce01fa3125396f7388a5e54b0970d844714bd8f7343334ae5a3'),\n",
       "  HexBytes('0x35860d85d0fe3b4f76f96956d930b405bfea1946d610a7d2fc172cf8124ecb86'),\n",
       "  HexBytes('0x68934c0afda4c1415499b254dcfa1901fea3496a61c1829694fa7abed6a2e332'),\n",
       "  HexBytes('0xd2b252a8e0770f9e22db175651ff9693840ad5742309234c6108c26f3bf86fcd'),\n",
       "  HexBytes('0xc6715dd81c892dbc457a31cf28958f39100ccf9b6e4689794640c2237ff48cde'),\n",
       "  HexBytes('0x28bd8833d821b9000b125a653326813c3340bdee995ae5808b276e36e50db5fe'),\n",
       "  HexBytes('0x369401e8668d4f34925b4915c1851e99937e7fc1c457df9faadfe112bec50e03'),\n",
       "  HexBytes('0x05cd7afeb98ad08ff6b80231d2f58e65350f4f6ffb34c0de625baf2784889761'),\n",
       "  HexBytes('0x6cba2368b1ba84f8efef74c803650ea5f86a6f9d9fb4ef69929e4c8388695eb3'),\n",
       "  HexBytes('0x14441fa1fb0ddeb64e20ac8f9f8688c7c1de4e4e2400b36155325218174a19c6'),\n",
       "  HexBytes('0x1a2173652974de3e83c34b77d503ab8bf2315c3eb598f503fb16ec5fb67ea1f2'),\n",
       "  HexBytes('0xd059cc4677d7caa2b7132cc24fd8c1ba300ff7fb7a4adb2194c087d7ae325de5'),\n",
       "  HexBytes('0xa117318c659d61a372d1338144dac5524a1c5872f6b971bcd1d3f0946a2c147f'),\n",
       "  HexBytes('0x82c6e7349e14a2789a72842207e4561a2e88bac7feb3fd2c6e901d40dc730dfd'),\n",
       "  HexBytes('0xfbe1f700b59bd53f3c555fac4d51c4ea6fe412deab324e276fe67fd54a9191e3'),\n",
       "  HexBytes('0xa6b512f54d3c588cb451727221bc0e066e2c4f71004b01b75c89a8d75a295bdf'),\n",
       "  HexBytes('0x8b327fc84f0cd6bdcbf91e2b76c2d6b8cc1141864cab26b4508c13913a084c85'),\n",
       "  HexBytes('0xcbd1f1a781a0b13f0da6db226d9ad791879a295e0d7ac36384d8029dc1520fed'),\n",
       "  HexBytes('0x94e9499c12bc1350649a2f436ebdd8ccf0da67297c5d777a0d580ecee6a149c1'),\n",
       "  HexBytes('0xa4bacb2d1f56041eb4255998c605d18f4a5055cdcde4f491893e827d3195540a'),\n",
       "  HexBytes('0x10fc3a1b1a3fa64d8c5d080b4322b68d1d44f1461422e591857cb1c526d1c4d2'),\n",
       "  HexBytes('0x762a50e9863b2171565edb59f0d9a3112fb0cac3fa6b8a3ada4b799846bde496'),\n",
       "  HexBytes('0xac56d1524fe2971e9bec92e1baf3cb6f02723af3139d89925debdf11b0c73894'),\n",
       "  HexBytes('0x539844ce082ef97572e0ab2b8a56d85b4b8d2c9759c307d6e2881f89e4f44d56'),\n",
       "  HexBytes('0xbe81031a69fa49f56d5849786b077ad7d0a1de9737a84e8b327ed1f15df05e70'),\n",
       "  HexBytes('0x32c1a0ae71e8af55ec2b896ec0145ee0b846b2893d9db1230b085524cb411d96'),\n",
       "  HexBytes('0xc9121cf35df24b088d9d2c61c021f984f68ebf6f59b4d905087b85b694480800'),\n",
       "  HexBytes('0x46284ff6a0e92e85aedc6f25dd69a9d8c0021efdf39a1067a9f173c299a60199'),\n",
       "  HexBytes('0x251a478b791e87de57809b9087080376d956e635c5fec3a38494648da9a7fbf2'),\n",
       "  HexBytes('0xf88053b34f35072b5efdb75e1aba33bfa522553df48c2ba2a948e36f651d7523'),\n",
       "  HexBytes('0xe4275b5f95ab19abaa9adbb1634ac0adf6f20b297b71cb9df2c1d1a8204eeb31'),\n",
       "  HexBytes('0xc924f1c0769e44d8ad17d5c44ba41655b2045e8480030c6c3bbe380d4b00ed28'),\n",
       "  HexBytes('0xee1af695b963d5114923b7d68085f009a09b8064f332a618dd332efd69a27e11'),\n",
       "  HexBytes('0xb87f2ceffe331309e5aa32a0157fdf26dc034602df6a8ed69992dfc0431d381a'),\n",
       "  HexBytes('0xbc0bbcabd205e7ffc32a66d6231d7f539cdb21f9a81b980107f475d8bdbe2ecc'),\n",
       "  HexBytes('0x0ca40dd6ac1b7166a870681577534718f941c9156311926292dea85cfb5c7279'),\n",
       "  HexBytes('0x23ef058450eedf35a7fd832632935040d97f30d2526c606ffb91c92cdba3e6bc'),\n",
       "  HexBytes('0x3b9c42ccaf86a58088321adfad09b99ecd8d1f3d43c13889f1a4c3d67fe04c0d'),\n",
       "  HexBytes('0xaf6bc97f4a1619beb1c8f34fa5c249737a13947a4b40ea83289c586397aad1a7'),\n",
       "  HexBytes('0xb7b7d221428eaaccc69a808e8ba5876f26aafe50c5d6b706ac10a8ba4787bdb9'),\n",
       "  HexBytes('0x61c6c632ab5b5e9c952137fbc6ad04903cf5da0a6aa303228340ec3694afb648'),\n",
       "  HexBytes('0x32b9693fc551e967433075e3e157dd0c42ea2ad4231fdc6ed393353678671173'),\n",
       "  HexBytes('0xc7df1302995c53ef57aab3d16bd918b20eb45d2522e5dc84095a2bda6802d41e'),\n",
       "  HexBytes('0x5684662fed57bee9fafcc65f778092ea64065a3578295b42606207c6fdd24a4b'),\n",
       "  HexBytes('0x9c6bad5b9278e6a72d88f33280286af5eb1f935569df190780fb1d89c66922f5'),\n",
       "  HexBytes('0xe6bd38c591b9f2e14ebac8d6dc0b40da75886f68755ffb7c6d9499af35854058'),\n",
       "  HexBytes('0x04dac2660d850f42d6b51bd008dd3406d1898c1498e47957aa23e032148c3445'),\n",
       "  HexBytes('0x5cda88afeb7e4ce6b60d705211c88b83feecc891b8825450b0188af0338a42ff'),\n",
       "  HexBytes('0x0001bd32809938f737588fff5677a34842e712fa01b6c0f265e83ea9fe7820a4'),\n",
       "  HexBytes('0x83bdc225ea7ef7dcb5f4b2c6cbf42597626f7b9131b24bc7189e04ec72f60f9a'),\n",
       "  HexBytes('0x63f7d163cb1560ae972276bbb08cc82df1f245cea024b07577e4739708640dab'),\n",
       "  HexBytes('0x028008991718596b5107b32414dd4e083db37047fda59486bced229396cb6628'),\n",
       "  HexBytes('0xe979340d4a7a123308d79fc9121f41c9c845684bc64213f3a16311dedd753a7c'),\n",
       "  HexBytes('0x0a6935cb2248b7c116df12a1d01b33e7988f2eee2a2f454f1bd30dec18c168ea'),\n",
       "  HexBytes('0x0cf275364fd3b1ca158ff962c7081431acb3d28c17f139fda3b3e309c604a065'),\n",
       "  HexBytes('0xd51429075948dd74b23c65262f15cfdb2fab6f0db15fb0992d728e2a0b05a3ca'),\n",
       "  HexBytes('0x35c6e8455607077d6f4e812035db4611c65d13521bd646f9bf1595908b0f33e4'),\n",
       "  HexBytes('0xd76d10a01369a14ab7d4e8b00a27ff616df522de143b9429c7850ac6d304d1a0'),\n",
       "  HexBytes('0xc7d7abe964dcc29683652ef9887f5589a33d4a4ef340b2fa71ba9458ff9e40ae'),\n",
       "  HexBytes('0x65472ce322b9f107fe79f7c49614348395735bf4c9bd105d219c8e96ec3fde98'),\n",
       "  HexBytes('0x722e7078fc544a35b611a068ba0674be9d271cecf237b0391795ab44f30eea1e'),\n",
       "  HexBytes('0x37bb9e1a7731dd67b01a47e04f403c0ed7cce49d4cccecf0b539ed889bb61f7b'),\n",
       "  HexBytes('0x334046e61ddcd9d794468ca1d0307a5a0a3e664c72e166314eebdf33b9ba68c6'),\n",
       "  HexBytes('0xc94dd364f22bb4f971eedfb253c2e46ab9ffdd894c9b248cd274520ed83f492d'),\n",
       "  HexBytes('0xbd792b503d4e8377bc69688edc97f52f72c8d31758bac5f28ff9e0e76589b22b'),\n",
       "  HexBytes('0x18de07832602c882ec54b1b613777718eacd55b9be38cbf08646d4e195701bc7'),\n",
       "  HexBytes('0x6957cb92d22362feb86a616bbd68d30cae298cc1735372b3d778069748d2071e'),\n",
       "  HexBytes('0x8e5464bf402de4d07dfe5508f3159bd7bba7f4e70b1e3572b666cd1e994e9e79'),\n",
       "  HexBytes('0xe039f8ee10b976460008485923dd370fb77c8288e931f0f4172cbf5e46ff6007'),\n",
       "  HexBytes('0x9a203a67d07d05233c8548211b9f0f8772736df9a6b49c3e1b322aadb0c5cea4'),\n",
       "  HexBytes('0x3d56d9d4b2738885ccbedb118abf0383af13afa6eb6166293ba95a402fa2f402'),\n",
       "  HexBytes('0x5d58195508805c230a0503850eb47a28c671e9dc1fa30cffd53dd70f035d8eda'),\n",
       "  HexBytes('0x96bcaa0eb6d26b6208b2b88ca589f3e2afbcc62f402f5f0de0c270713cf4d4f6'),\n",
       "  HexBytes('0x085f8c020646f3fe521915cb315b7f267dadef7bb26d555e168b940cd866a084'),\n",
       "  HexBytes('0x512c17af1bb574701d168a4926fd15ae12f8cb3cb0fbc41de81f17754843f4c3'),\n",
       "  HexBytes('0xc8b6c40ff184526cbaa2cf099401d915397fdddc1cddb3010981a109879d756f'),\n",
       "  HexBytes('0x922238762d2f69aed1a0bd42b80a3753126c3cb00a38ecdd477918d6c2da4f28'),\n",
       "  HexBytes('0x5812151c09d73cf983d0184d95910b0cc16e44a79c8a4aee0430ec43fc2d1e37'),\n",
       "  HexBytes('0xd0896a858f2213c9ce3db5e4485e8366567b1af000726ec245c2278dcdb3ead0'),\n",
       "  HexBytes('0x091843e515b82b1e238c03f23e7347db5a281fbe6e2fa9eb25943832f61b44ea'),\n",
       "  HexBytes('0x6e275eb693126943f669919980e8a421700dca8baafd6d3e7004b30525f0ebdf'),\n",
       "  HexBytes('0x76ecf3a99e65c6e9637a304a3095320866b40fc3afaf930aae252e7d605097e8'),\n",
       "  HexBytes('0x79949b0ddae0cab7a2236ea7f50b14054929488bb8f149db04a8bbcb6388799e'),\n",
       "  HexBytes('0xdc2b3eb2c65334af56b556fc3de84623a26eabd51802d18e93c654a96835dbac'),\n",
       "  HexBytes('0x925e20e6c55695370fab90eacc9d77692ee0880c00695ffe2c3b2bb5c14e0aa7'),\n",
       "  HexBytes('0xe003c4104c98ca5796c36b829e566585b939ded88c40f92e88d7b229e7a6a2b6'),\n",
       "  HexBytes('0xb8bcee8c9e55c4a820c502dfbca9a7054d6fb88acef49b1e7791f78853e34f84'),\n",
       "  HexBytes('0x7c4c96cf6216e8c649baff7df433ab47b8e2aaeda154b4db8ed8c110636b4551'),\n",
       "  HexBytes('0x0e1b666aec75bb78180fdab9b1eba8f7e5343d3fdd3504bb73baecb08b52cc81'),\n",
       "  HexBytes('0x5ab9bda79b2ff4c6681ae3d36b13d6e69230393defc69737e2ebc75e5e9ae8d8'),\n",
       "  HexBytes('0xe59808648b71dacea5e5fcb19f26a3896f5b94b3a8b0d8da5a5e1346d4a38cb1'),\n",
       "  HexBytes('0xc5dfbcb43649ab4d41f4a4b0667d2ee3698ece4d3c73b741dca6577d638eb6a0'),\n",
       "  HexBytes('0xdb836c2f5f1df1ebe9f84f4bb4ba4f652c757f4ae9c8cb38f49c93e7d9b32d26'),\n",
       "  HexBytes('0xce7c502d34072b9c2b4ff1e10403c050a1adf96afaa8a814e0ec02e596d20e7e'),\n",
       "  HexBytes('0x6c6dbc6e3e059847db51366b46b19fb551ced3a1074b9cf13a845f8a1634b837'),\n",
       "  HexBytes('0xa00f422ffc36afe0f9a3b81b46e53972b7f625fae6289604198e7dcf1fa0d9a0'),\n",
       "  HexBytes('0x746d17815fdb1da42e222378f49444de999e521b6dab03ecb7c0249efa837811'),\n",
       "  HexBytes('0x0847476972f34779206362bb6fc0b11b30f362b5e31ebbc7a38d6667675aab17'),\n",
       "  HexBytes('0x51e660e69aff2c6a4bdc5b0501263d812618425a629602ccdc85bb5b7f701b22'),\n",
       "  HexBytes('0x67e04524e3db15d781703c107764437c360ffbc982ddc82ee7f6d6404e022b85'),\n",
       "  HexBytes('0x83f51f7cc76d921c80f9ebf1f0508473f882d22386bc8a147820ae5331e96aee'),\n",
       "  HexBytes('0xf1b19739f469663735be5630265aaa6f4f8e5c041a42416cc9d9cef5dd5f73ef'),\n",
       "  HexBytes('0x08bee5db5043a6e8285abf78db7745e50a59f9a5105e7d17eefa52d10514c255')],\n",
       " 'transactionsRoot': HexBytes('0xaec5cec24f909ca5b6e6cadf32b461fabc0fe0f38f8f7cabc9a27bb3601d31b5'),\n",
       " 'uncles': []})"
      ]
     },
     "execution_count": 2,
     "metadata": {},
     "output_type": "execute_result"
    }
   ],
   "source": [
    "#get latest block transaction data\n",
    "data = web3.eth.get_block(blocknumber)\n",
    "data"
   ]
  },
  {
   "cell_type": "markdown",
   "metadata": {},
   "source": [
    "## 3. Thu thập dữ liệu của smart contract\n",
    "*Thực hành thu thập dữ liệu của lending smart contract Valas trên Binance smart chain. Để có thể lấy dữ liệu của Valas ta cần có:*\n",
    "- *Địa chỉ smart contract*\n",
    "- *ABI của Valas*\n",
    "\n",
    "*Địa chỉ smart contract không được Valas công bố nhưng bằng những nghiệp vụ chuyên dụng mình đã thăm dò và lấy được địa chỉ này trên [BSCscan](https://bscscan.com/). Dưới đây ta sẽ tiến hành lấy ABI của Valas*"
   ]
  },
  {
   "cell_type": "markdown",
   "metadata": {},
   "source": [
    "### Cách lấy ABI\n",
    "*Đối với các smart contract cho phép lấy ABI trên BSCscan, ta có thể  thực hiện các bước sau để lấy ABI:*  \n",
    "1. Truy cập [BSC Scan](https://bscscan.com/).\n",
    "2. Nhập địa chỉ smart contract address vào search bar.\n",
    "3. Kéo xuống và chon tab “Contract”.\n",
    "\n",
    "![image.png](../images/contract.png)\n",
    "\n",
    "4. Kéo xuống thêm một tý, chúng ta sẽ thấy phần ABI.\n",
    "5. Chọn nút copy ABI  hoặc download dưới dạng json.\n",
    "\n",
    "![image.png](../images/ABI.png)\n",
    "\n",
    "*Lưu ý:*\n",
    "\n",
    "> Một số smart contract không công bố ABI, ta có thể tìm kiếm source code của nó trên github, deploy và lấy ABI.\n",
    "\n",
    "> Đối với các smart contract không công bố cả code cũng như ABI như Valas, mình có thể đọc [docs](https://docs.valasfinance.com/) của nó. Tại [đây](https://docs.valasfinance.com/#why-valas), mình thấy rằng Valas sử dụng công nghệ của Aave Finance. Do Aave finance public [ABI](https://docs.aave.com/developers/v/2.0/deployed-contracts/deployed-contracts) nên mình có thể sử dụng ABI này. Mặc dù một số điểm trên ABI của Aave có thể đã bị Valas thay đổi, nhưng nhìn chung là có thể dùng tạm để thay thế cho ABI của Valas."
   ]
  },
  {
   "cell_type": "markdown",
   "metadata": {},
   "source": [
    "## 4. Thực hành thu thập dữ liệu của Valas\n",
    "*Tại đây, mình sẽ demo một số cách lấy dữ liệu của một smart contract. Chúng ta có hai loại dữ liệu cần lấy, đó là:*\n",
    "- *Dữ liệu từ các giao dịch (transaction) của smart contract*\n",
    "- *Dữ liệu trạng thái là các thông tin từ các phần tử liên quan với smart contract (với lending pool Valas, các phần tử  này là các tokens và users).*\n",
    "\n",
    "*Việc thu thập dữ liệu sẽ dựa trên ABI của smart contract.*"
   ]
  },
  {
   "cell_type": "code",
   "execution_count": 1,
   "metadata": {},
   "outputs": [
    {
     "ename": "NameError",
     "evalue": "name 'json' is not defined",
     "output_type": "error",
     "traceback": [
      "\u001b[0;31m---------------------------------------------------------------------------\u001b[0m",
      "\u001b[0;31mNameError\u001b[0m                                 Traceback (most recent call last)",
      "Cell \u001b[0;32mIn[1], line 3\u001b[0m\n\u001b[1;32m      1\u001b[0m \u001b[38;5;66;03m#lấy cấu trúc dữ liệu của abi\u001b[39;00m\n\u001b[1;32m      2\u001b[0m \u001b[38;5;28;01mwith\u001b[39;00m \u001b[38;5;28mopen\u001b[39m(\u001b[38;5;124m\"\u001b[39m\u001b[38;5;124m../abi/lending_pool_aave_v2.json\u001b[39m\u001b[38;5;124m\"\u001b[39m, \u001b[38;5;124m\"\u001b[39m\u001b[38;5;124mr\u001b[39m\u001b[38;5;124m\"\u001b[39m) \u001b[38;5;28;01mas\u001b[39;00m f:\n\u001b[0;32m----> 3\u001b[0m     abi \u001b[38;5;241m=\u001b[39m \u001b[43mjson\u001b[49m\u001b[38;5;241m.\u001b[39mloads(f\u001b[38;5;241m.\u001b[39mread())\n\u001b[1;32m      4\u001b[0m \u001b[38;5;66;03m#Địa chỉ của valas  \u001b[39;00m\n\u001b[1;32m      5\u001b[0m address \u001b[38;5;241m=\u001b[39m \u001b[38;5;124m\"\u001b[39m\u001b[38;5;124m0xE29A55A6AEFf5C8B1beedE5bCF2F0Cb3AF8F91f5\u001b[39m\u001b[38;5;124m\"\u001b[39m\n",
      "\u001b[0;31mNameError\u001b[0m: name 'json' is not defined"
     ]
    }
   ],
   "source": [
    "#lấy cấu trúc dữ liệu của abi\n",
    "with open(\"../abi/lending_pool_aave_v2.json\", \"r\") as f:\n",
    "    abi = json.loads(f.read())\n",
    "#Địa chỉ của valas  \n",
    "address = \"0xE29A55A6AEFf5C8B1beedE5bCF2F0Cb3AF8F91f5\"\n",
    "# Kiểm tra xem địa chỉ có đúng không\n",
    "if not web3.isAddress(address):\n",
    "    address = web3.toChecksumAddress(address)\n",
    "#Sử dụng web3 thiết lập đối tượng contract để sử dụng các phương thức\n",
    "contract = web3.eth.contract(abi=abi, address=address)"
   ]
  },
  {
   "cell_type": "markdown",
   "metadata": {},
   "source": [
    "> **NOTE**: Nên kiểm tra xem chuỗi byte code có phải là một địa chỉ trên blockchain hay không: **`web3.isAddress(address)`**. Nếu là địa chỉ, nên có thêm một bước convert địa chỉ thành địa chỉ thực trên web3 bằng **`web3.toChecksumAddress(address)`**. Do địa chỉ trên của mình đã là địa chỉ thực của Valas trên BSC nên hai bước này có thể bỏ qua."
   ]
  },
  {
   "cell_type": "markdown",
   "metadata": {},
   "source": [
    "### 4.1. Lấy data từ **function** của contract \n",
    "*Mình sử dụng một số hàm trong smart contract để lấy dữ liệu từ các tokens được giao dịch trong lending pool Valas. Đầu tiên sẽ lấy danh sách địa chỉ smart contract của các tokens được giao dịch. Sau đó, lấy thông tin của tokens dựa trên địa chỉ của nó. Thông tin của user được lấy tương tự như vậy (Không có hàm lấy danh sách users, vì số lượng users rất nhiều)*\n",
    "\n",
    "> **Note**: Cấu trúc các hàm này trong ABI thường sẽ có trường **`\"stateMutability\": \"view\"`** hoặc có chữ **`get`** đầu tiên của tên hàm\n",
    "\n",
    "#### 4.1.a. Lấy địa chỉ các token\n",
    "*Ta có thể tìm các hàm hỗ trợ lấy dữ liệu trong file ABI. Tại đây, mình đã sử dụng hàm getReservesList trong `abi/lending_pool_aave_v2.json`. Các bạn có thể thấy cấu trúc của nó ở hình dưới hoặc vào file ABI này tìm kiếm thử.*\n",
    "\n",
    "![image.png](../images/list_token.png)"
   ]
  },
  {
   "cell_type": "code",
   "execution_count": 4,
   "metadata": {},
   "outputs": [
    {
     "data": {
      "text/plain": [
       "['0xbb4CdB9CBd36B01bD1cBaEBF2De08d9173bc095c',\n",
       " '0xe9e7CEA3DedcA5984780Bafc599bD69ADd087D56',\n",
       " '0x8AC76a51cc950d9822D68b83fE1Ad97B32Cd580d',\n",
       " '0x55d398326f99059fF775485246999027B3197955',\n",
       " '0x1AF3F329e8BE154074D8769D1FFa4eE058B1DBc3',\n",
       " '0x0E09FaBB73Bd3Ade0a17ECC321fD13a19e81cE82',\n",
       " '0x2170Ed0880ac9A755fd29B2688956BD959F933F8',\n",
       " '0x7130d2A12B9BCbFAe4f2634d864A1Ee1Ce3Ead9c',\n",
       " '0x14016E85a25aeb13065688cAFB43044C2ef86784']"
      ]
     },
     "execution_count": 4,
     "metadata": {},
     "output_type": "execute_result"
    }
   ],
   "source": [
    "contract.functions.getReservesList().call()"
   ]
  },
  {
   "cell_type": "markdown",
   "metadata": {},
   "source": [
    ">**Note**: Hàm trên mặc định lấy dữ liệu ở block mới nhất. Ngoài ra ta có thể dữ liệu của các block trong quá khứ thông qua parameter *`block_identifier`* của hàm `call()`, các bạn có thể tham khảo tại [document](https://web3py.readthedocs.io/en/stable/contracts.html?highlight=call#web3.contract.ContractFunction.call)"
   ]
  },
  {
   "cell_type": "markdown",
   "metadata": {},
   "source": [
    "#### 4.1.b. Lấy thông tin của một token trong Valas\n",
    "*Để lấy thông tin của một token trong danh sách token được reserved trong Valas trên, mình sử dụng hàm **`getReserveData()`**. Tại đây mình cũng sẽ thử lấy dữ liệu trong block ở quá khứ (cụ thể là block cách block mới nhất 10 block), sử dụng tham số `block_identifier` của hàm `call`.*\n",
    "\n",
    "> Lưu ý là ta đang sử dụng full node provider. Full node chỉ lưu dữ liệu state của blockchain tại 128 blocks gần nhất (Đọc tìm hiểu full, archive và light node ở đầu series này đi nhé, quan trọng đấy). Vì vậy ta sẽ không thể lấy dữ liệu ở những block cách block mới nhất quá 127 block"
   ]
  },
  {
   "cell_type": "code",
   "execution_count": 5,
   "metadata": {},
   "outputs": [
    {
     "data": {
      "text/plain": [
       "((92234085768165225799488,),\n",
       " 1018569103063889283479496079,\n",
       " 1073528567882155171570675740,\n",
       " 16653618569346878212989384,\n",
       " 76949896701908869988366249,\n",
       " 10000000000000000000000000,\n",
       " 1662717379,\n",
       " '0xB11A912CD93DcffA8b609b4C021E89723ceb7FE8',\n",
       " '0x2Adc0c94A055f1FF64A35672D30Eb523ec647816',\n",
       " '0xE7CDC4e53915D50B74496847EeBa7233caE85CE5',\n",
       " '0xe4630EaE1C2b8B30F9b4AADD355522Ec9c18bfe4',\n",
       " 0)"
      ]
     },
     "execution_count": 5,
     "metadata": {},
     "output_type": "execute_result"
    }
   ],
   "source": [
    "blocknumber = web3.eth.blockNumber - 10\n",
    "contract.functions.getReserveData(\"0xbb4CdB9CBd36B01bD1cBaEBF2De08d9173bc095c\").call(block_identifier=blocknumber)"
   ]
  },
  {
   "cell_type": "markdown",
   "metadata": {},
   "source": [
    "### 4.2. Lấy data từ **event** của contract \n",
    "*Tiếp theo mình sẽ hướng dẫn các bạn crawl dữ liệu từ các giao dịch, thông qua **event** mà các contract emit ra.*\n",
    "*Không như dữ liệu về state của blockchain chỉ được lưu của 128 block đầu, full node lưu tất cả lịch sử giao dịch của smart contract trên BSC. Tại đây, mình sẽ crawl dữ liệu của deposit event được emit từ các giao dịch của Valas tại block 21031205. Hình dưới đây là cấu trúc của event này trong ABI. Các bạn có thể kiểm tra trong `abi/lending_pool_aave_v2.json`*\n",
    "\n",
    "![image.png](../images/deposit.png)"
   ]
  },
  {
   "cell_type": "code",
   "execution_count": 6,
   "metadata": {},
   "outputs": [
    {
     "data": {
      "text/plain": [
       "[{'args': {'reserve': '0x0E09FaBB73Bd3Ade0a17ECC321fD13a19e81cE82',\n",
       "   'onBehalfOf': '0x26417D19dc19a73274B4c97615b310b39017FA57',\n",
       "   'referral': 0,\n",
       "   'user': '0x26417D19dc19a73274B4c97615b310b39017FA57',\n",
       "   'amount': 1257749112692222427},\n",
       "  'event': 'Deposit',\n",
       "  'logIndex': 220,\n",
       "  'transactionIndex': 71,\n",
       "  'transactionHash': '0x0ee0f8ee33047ba977e3afd0b0995885b8d304b1aa1f1c6d307099c9ef9206e9',\n",
       "  'address': '0xE29A55A6AEFf5C8B1beedE5bCF2F0Cb3AF8F91f5',\n",
       "  'blockHash': '0x68dee16ed601595adeb352f2072879d04f288506e5dcdd44f064b4f862e6bfe4',\n",
       "  'blockNumber': 21031205}]"
      ]
     },
     "execution_count": 6,
     "metadata": {},
     "output_type": "execute_result"
    }
   ],
   "source": [
    "events = contract.events.Deposit.createFilter(fromBlock=21031205, toBlock=21031205).get_all_entries()\n",
    "event_list = []\n",
    "for event in events:\n",
    "    event_list.append(json.loads(web3.toJSON(event)))\n",
    "event_list"
   ]
  },
  {
   "cell_type": "markdown",
   "metadata": {},
   "source": [
    ">**NOTE**: Các bạn có thấy hai trường **fromBlock** và **toBlock** không? Mình có thể thay đổi hai giá trị này để  thu thập dữ liệu trong nhiều blocks nhé. Chú ý là **fromBlock** luôn nhỏ hơn **toBlock** và số  blocks tối đa có thể crawl một lần là **5000** blocks thôi. Ngoài ra có thể tham khảo trên [Web3 python docs](https://web3py.readthedocs.io/en/stable/contracts.html?highlight=createFilter#web3.contract.Contract.events.your_event_name.createFilter) để thiết lập các điều kiện lọc dữ liệu event khác theo ý thích nhé."
   ]
  },
  {
   "cell_type": "markdown",
   "metadata": {},
   "source": [
    "### 4.3. Thu thập nhiều loại dữ liệu event cùng lúc\n",
    "*Với cách trên, mọi người có thể thấy nhược điểm là mỗi lần mình chỉ có thể thu thập được một loại dữ liệu thôi. Vậy làm sao để thu thập nhiều loại dữ liệu một lúc để tránh mỗi lần thu thập lại phải quét lại những blocks đã crawl? Ta sẽ phải tự code.* \n",
    "\n",
    "*Cơ bản ta sẽ sử dụng event hash để crawl. Event hash là một chuỗi byte code được mã hóa theo chuẩn KECCAK_256 từ một chuỗi định nghĩa hàm tạo bởi cấu trúc event trong ABI (Đọc code để hiểu rõ hơn nhé - hàm **`get_topic_filter`** trong `service/utils.py`).*\n",
    "\n",
    "*Tại đây, mình cũng sẽ sẽ tách hai event là `deposit` và `borrow` trong ABI của aave tạo thành một ABI mới riêng cho hai event này tại `abi/event_abi.json`.*\n",
    "\n",
    "*Mình có xây dựng một class EthReceiptLogHandler cung cấp các functions xử lý ABI và dữ liệu event trả về. Có ba functions quan trọng mà mọi người cần chú ý đó là:* \n",
    "\n",
    "- *(1) **`build_list_info_event`** xây dựng thông tin event từ ABI. Hàm này có nhiệm vụ trả về `EventSubscriber` chứa thông tin đối sánh tên event theo event hash và thứ tự các trường dữ liệu tương ứng với dữ liệu event mà web3 trả về.*\n",
    "\n",
    "- *(2) **`web3_dict_to_receipt_log`** biến đổi dữ liệu event data trả về theo cấu trúc mà mình quy định sẵn (cài này tạo ra để mình xử lý event dễ hơn ý mà).*\n",
    "\n",
    "- *(3) **`extract_event_from_log`** đối sánh dữ liệu event trả về với `EventSubscriber` và giải mã các trường dữ liệu `topics` và `data` trong event (Muốn biến hai trường này là gì thì các bạn đọc phần tài liệu về ABI mình để ở đầu bài nhé).*\n",
    "\n",
    "- *(4) cuối cùng **`eth_event_to_dict`** chuyển đổi dữ liệu event về cấu trúc event cuối cùng (theo dictionary) lưu vào cơ sở dữ liệu (Cái này tạo ra để mình có thể lưu dữ liệu vào mongodb).*"
   ]
  },
  {
   "cell_type": "code",
   "execution_count": 7,
   "metadata": {},
   "outputs": [
    {
     "data": {
      "text/plain": [
       "[[<model.receipt_log.EventSubscriber at 0x7fa20831f8e0>,\n",
       "  '0xc6a898309e823ee50bac64e45ca8adba6690e99e7841c45d754e2a38e9019d9b',\n",
       "  ['reserve', 'user', 'onBehalfOf'],\n",
       "  'Borrow'],\n",
       " [<model.receipt_log.EventSubscriber at 0x7fa1e6b84250>,\n",
       "  '0xde6857219544bb5b7746f48ed30be6386fefc61b2f864cacf559893bf50fd951',\n",
       "  ['reserve', 'user', 'onBehalfOf'],\n",
       "  'Deposit']]"
      ]
     },
     "execution_count": 7,
     "metadata": {},
     "output_type": "execute_result"
    }
   ],
   "source": [
    "from receipt_log_handler import EthReceiptLogHandler\n",
    "\n",
    "with open(\"../abi/event_abi.json\", \"r\") as f:\n",
    "    event_abi = json.loads(f.read())\n",
    "\n",
    "handler = EthReceiptLogHandler()\n",
    "# xây dựng thông tin event từ ABI.\n",
    "event_abi_info = handler.build_list_info_event(event_abi)\n",
    "event_abi_info"
   ]
  },
  {
   "cell_type": "code",
   "execution_count": 8,
   "metadata": {},
   "outputs": [
    {
     "data": {
      "text/plain": [
       "['0xc6a898309e823ee50bac64e45ca8adba6690e99e7841c45d754e2a38e9019d9b',\n",
       " '0xde6857219544bb5b7746f48ed30be6386fefc61b2f864cacf559893bf50fd951']"
      ]
     },
     "execution_count": 8,
     "metadata": {},
     "output_type": "execute_result"
    }
   ],
   "source": [
    "# tách lấy event hash\n",
    "event_hash = [event_info[1] for event_info in event_abi_info]\n",
    "event_hash"
   ]
  },
  {
   "cell_type": "code",
   "execution_count": 9,
   "metadata": {},
   "outputs": [
    {
     "data": {
      "text/plain": [
       "{'0xc6a898309e823ee50bac64e45ca8adba6690e99e7841c45d754e2a38e9019d9b': <model.receipt_log.EventSubscriber at 0x7fa20831f8e0>,\n",
       " '0xde6857219544bb5b7746f48ed30be6386fefc61b2f864cacf559893bf50fd951': <model.receipt_log.EventSubscriber at 0x7fa1e6b84250>}"
      ]
     },
     "execution_count": 9,
     "metadata": {},
     "output_type": "execute_result"
    }
   ],
   "source": [
    "# tách lấy event subscriber\n",
    "event_subscriber = {}\n",
    "for info in event_abi_info:\n",
    "    event_subscriber[info[1]] = info[0]\n",
    "\n",
    "event_subscriber"
   ]
  },
  {
   "cell_type": "markdown",
   "metadata": {},
   "source": [
    "*Do dữ liệu event trên blockchain vô cùng lớn và nhiểu dữ liệu từ các lending pool khác nhau, mình đã tạo một filter chỉ thu thập dữ liệu của Valas. Filter này gồm 4 điều kiện là fromBlock, toBlock, topics - danh sách event hash cần lọc (event hash lưu ở topics[0] nên mình để mảng event hash làm phần tử đầu của topics - hơi khó hiểu nhỉ, mọi người sẽ hình dung rõ hơn khi nhìn vào dữ liệu thô) và address là các địa chỉ smart contract mà mình muốn lấy event.*"
   ]
  },
  {
   "cell_type": "code",
   "execution_count": 16,
   "metadata": {},
   "outputs": [
    {
     "data": {
      "text/plain": [
       "True"
      ]
     },
     "execution_count": 16,
     "metadata": {},
     "output_type": "execute_result"
    }
   ],
   "source": [
    "#create filter\n",
    "filter_params = {\n",
    "    \"fromBlock\":21043181,\n",
    "    \"toBlock\":21043646,\n",
    "    \"topics\": [event_hash],\n",
    "    \"address\":[\"0xE29A55A6AEFf5C8B1beedE5bCF2F0Cb3AF8F91f5\"]\n",
    "}\n",
    "\n",
    "# event_filter = web3.eth.filter(filter_params)\n",
    "# events = event_filter.get_all_entries()\n",
    "# event_list = []\n",
    "# for event in events:\n",
    "#     log = handler.web3_dict_to_receipt_log(event)\n",
    "#     eth_event = handler.extract_event_from_log(log, event_subscriber[log.topics[0]])\n",
    "#     if eth_event is not None:\n",
    "#         eth_event_dict = handler.eth_event_to_dict(eth_event)\n",
    "#         event_list.append(eth_event_dict)\n",
    "\n",
    "event_filter = web3.eth.filter(filter_params)\n",
    "event_logs = event_filter.get_all_entries()\n",
    "event_list = []\n",
    "for event_log in event_logs:\n",
    "    log = handler.web3_dict_to_receipt_log(event_log)\n",
    "    eth_event = handler.extract_event_from_log(log, event_subscriber[log.topics[0]])\n",
    "    if eth_event is not None:\n",
    "        eth_event_dict = handler.eth_event_to_dict(eth_event)\n",
    "        event_list.append(eth_event_dict)\n",
    "\n",
    "\n",
    "web3.eth.uninstallFilter(event_filter.filter_id)"
   ]
  },
  {
   "cell_type": "markdown",
   "metadata": {},
   "source": [
    "*Dưới đây là dữ liệu thô, trường `topics` là một mảng các phần tử nhé. Phần tử đầu tiên chính là event hash. Các phần tử còn lại sẽ là các trường dữ liệu có `index` là `true` trong cấu trúc event ở ABI.*"
   ]
  },
  {
   "cell_type": "code",
   "execution_count": 17,
   "metadata": {},
   "outputs": [
    {
     "data": {
      "text/plain": [
       "[AttributeDict({'address': '0xE29A55A6AEFf5C8B1beedE5bCF2F0Cb3AF8F91f5',\n",
       "  'topics': [HexBytes('0xde6857219544bb5b7746f48ed30be6386fefc61b2f864cacf559893bf50fd951'),\n",
       "   HexBytes('0x0000000000000000000000000e09fabb73bd3ade0a17ecc321fd13a19e81ce82'),\n",
       "   HexBytes('0x0000000000000000000000007c6defb490b8ffe9379839914b4073c35ea7468a'),\n",
       "   HexBytes('0x0000000000000000000000000000000000000000000000000000000000000000')],\n",
       "  'data': '0x0000000000000000000000007c6defb490b8ffe9379839914b4073c35ea7468a0000000000000000000000000000000000000000000000058282d58b806d99f4',\n",
       "  'blockNumber': 21043181,\n",
       "  'transactionHash': HexBytes('0x4452f763a53dad9fb3a9784a2133a4a960379685d194932155fa6a7217980ad9'),\n",
       "  'transactionIndex': 149,\n",
       "  'blockHash': HexBytes('0x52ac94f0072e20b23c7bab220d8c9e3d43185cdbc62bfec962076a2de4a51912'),\n",
       "  'logIndex': 409,\n",
       "  'removed': False}),\n",
       " AttributeDict({'address': '0xE29A55A6AEFf5C8B1beedE5bCF2F0Cb3AF8F91f5',\n",
       "  'topics': [HexBytes('0xde6857219544bb5b7746f48ed30be6386fefc61b2f864cacf559893bf50fd951'),\n",
       "   HexBytes('0x000000000000000000000000e9e7cea3dedca5984780bafc599bd69add087d56'),\n",
       "   HexBytes('0x00000000000000000000000019ec9e3f7b21dd27598e7ad5aae7dc0db00a806d'),\n",
       "   HexBytes('0x0000000000000000000000000000000000000000000000000000000000000000')],\n",
       "  'data': '0x00000000000000000000000019ec9e3f7b21dd27598e7ad5aae7dc0db00a806d00000000000000000000000000000000000000000000000de185f0414836722f',\n",
       "  'blockNumber': 21043427,\n",
       "  'transactionHash': HexBytes('0xbddb09a7f95e47bcf469b26f621cb62fa050cf1f4f0cb9678352acf815a15e89'),\n",
       "  'transactionIndex': 83,\n",
       "  'blockHash': HexBytes('0xc143586eccc0a1c83910d310460d8a9032c856407b081d4207e9be5906d2ae5a'),\n",
       "  'logIndex': 169,\n",
       "  'removed': False}),\n",
       " AttributeDict({'address': '0xE29A55A6AEFf5C8B1beedE5bCF2F0Cb3AF8F91f5',\n",
       "  'topics': [HexBytes('0xde6857219544bb5b7746f48ed30be6386fefc61b2f864cacf559893bf50fd951'),\n",
       "   HexBytes('0x0000000000000000000000000e09fabb73bd3ade0a17ecc321fd13a19e81ce82'),\n",
       "   HexBytes('0x0000000000000000000000009321d5ba18a9cad47e72ddc0a9c8f59c196644a4'),\n",
       "   HexBytes('0x0000000000000000000000000000000000000000000000000000000000000000')],\n",
       "  'data': '0x0000000000000000000000009321d5ba18a9cad47e72ddc0a9c8f59c196644a40000000000000000000000000000000000000000000000843a82386542bd7208',\n",
       "  'blockNumber': 21043541,\n",
       "  'transactionHash': HexBytes('0xe1f4c0b8c315089c719d7bb55246a76228ef7eff61f4d76ce4d62303bfb7b7f4'),\n",
       "  'transactionIndex': 59,\n",
       "  'blockHash': HexBytes('0xf5378417c7a2752e6009581f14aa200682e8141f14b455fc4e0a5f2c6d72881e'),\n",
       "  'logIndex': 145,\n",
       "  'removed': False}),\n",
       " AttributeDict({'address': '0xE29A55A6AEFf5C8B1beedE5bCF2F0Cb3AF8F91f5',\n",
       "  'topics': [HexBytes('0xc6a898309e823ee50bac64e45ca8adba6690e99e7841c45d754e2a38e9019d9b'),\n",
       "   HexBytes('0x0000000000000000000000008ac76a51cc950d9822d68b83fe1ad97b32cd580d'),\n",
       "   HexBytes('0x0000000000000000000000009321d5ba18a9cad47e72ddc0a9c8f59c196644a4'),\n",
       "   HexBytes('0x0000000000000000000000000000000000000000000000000000000000000000')],\n",
       "  'data': '0x0000000000000000000000009321d5ba18a9cad47e72ddc0a9c8f59c196644a40000000000000000000000000000000000000000000001923f0fe28d7a7c03e6000000000000000000000000000000000000000000000000000000000000000200000000000000000000000000000000000000000004ff86881fdbab1ef02543',\n",
       "  'blockNumber': 21043560,\n",
       "  'transactionHash': HexBytes('0x41c77a9f7060e4223071646e0fe27635d0588fdd0143aff16ff21f87b5eec435'),\n",
       "  'transactionIndex': 76,\n",
       "  'blockHash': HexBytes('0xd10f310f3f87819093882e9c75081e632cfdcf339bff3f981b96a49f3c055528'),\n",
       "  'logIndex': 183,\n",
       "  'removed': False}),\n",
       " AttributeDict({'address': '0xE29A55A6AEFf5C8B1beedE5bCF2F0Cb3AF8F91f5',\n",
       "  'topics': [HexBytes('0xde6857219544bb5b7746f48ed30be6386fefc61b2f864cacf559893bf50fd951'),\n",
       "   HexBytes('0x0000000000000000000000000e09fabb73bd3ade0a17ecc321fd13a19e81ce82'),\n",
       "   HexBytes('0x0000000000000000000000009321d5ba18a9cad47e72ddc0a9c8f59c196644a4'),\n",
       "   HexBytes('0x0000000000000000000000000000000000000000000000000000000000000000')],\n",
       "  'data': '0x0000000000000000000000009321d5ba18a9cad47e72ddc0a9c8f59c196644a4000000000000000000000000000000000000000000000061f06a1852b37d1e91',\n",
       "  'blockNumber': 21043593,\n",
       "  'transactionHash': HexBytes('0x694e8ae6a14cb404db237212bf064be549ca346f13b5126eded0363d6d9d38e9'),\n",
       "  'transactionIndex': 124,\n",
       "  'blockHash': HexBytes('0x8598993a043163f8e648994b2d8934d653cbf00a77e0623c98a1955d785cb1f6'),\n",
       "  'logIndex': 303,\n",
       "  'removed': False}),\n",
       " AttributeDict({'address': '0xE29A55A6AEFf5C8B1beedE5bCF2F0Cb3AF8F91f5',\n",
       "  'topics': [HexBytes('0xc6a898309e823ee50bac64e45ca8adba6690e99e7841c45d754e2a38e9019d9b'),\n",
       "   HexBytes('0x0000000000000000000000008ac76a51cc950d9822d68b83fe1ad97b32cd580d'),\n",
       "   HexBytes('0x0000000000000000000000009321d5ba18a9cad47e72ddc0a9c8f59c196644a4'),\n",
       "   HexBytes('0x0000000000000000000000000000000000000000000000000000000000000000')],\n",
       "  'data': '0x0000000000000000000000009321d5ba18a9cad47e72ddc0a9c8f59c196644a400000000000000000000000000000000000000000000005150ae84a8cdf0000000000000000000000000000000000000000000000000000000000000000000020000000000000000000000000000000000000000000501421581d033d4d54dd7',\n",
       "  'blockNumber': 21043618,\n",
       "  'transactionHash': HexBytes('0xd15a93675c17a05edfbb40b7a7fd8258f761b82b533fddb3315a778ef7e2b463'),\n",
       "  'transactionIndex': 33,\n",
       "  'blockHash': HexBytes('0x0f21a45357fb355928cfb4c25b2639d819477e0adb916b66a547dceddf7b6da2'),\n",
       "  'logIndex': 134,\n",
       "  'removed': False}),\n",
       " AttributeDict({'address': '0xE29A55A6AEFf5C8B1beedE5bCF2F0Cb3AF8F91f5',\n",
       "  'topics': [HexBytes('0xde6857219544bb5b7746f48ed30be6386fefc61b2f864cacf559893bf50fd951'),\n",
       "   HexBytes('0x0000000000000000000000000e09fabb73bd3ade0a17ecc321fd13a19e81ce82'),\n",
       "   HexBytes('0x0000000000000000000000009321d5ba18a9cad47e72ddc0a9c8f59c196644a4'),\n",
       "   HexBytes('0x0000000000000000000000000000000000000000000000000000000000000000')],\n",
       "  'data': '0x0000000000000000000000009321d5ba18a9cad47e72ddc0a9c8f59c196644a4000000000000000000000000000000000000000000000013c9265746580d33e7',\n",
       "  'blockNumber': 21043646,\n",
       "  'transactionHash': HexBytes('0x81299ecc60cbcff15f0d81d28c3e3403fa205ebb4543338122b0780725ab0868'),\n",
       "  'transactionIndex': 80,\n",
       "  'blockHash': HexBytes('0x3d4410a5f868f6bad0a8335b0ba50a0d91595a1b2bcb685782a5cfc6a8f6357e'),\n",
       "  'logIndex': 228,\n",
       "  'removed': False})]"
      ]
     },
     "execution_count": 17,
     "metadata": {},
     "output_type": "execute_result"
    }
   ],
   "source": [
    "event_logs"
   ]
  },
  {
   "cell_type": "markdown",
   "metadata": {},
   "source": [
    "*Đây là dữ liệu sau cuối cùng trả về . Quá trình giải mã dữ liệu khá phức tạp nhưng mình sẽ giải thích đơn giản như sau:*\n",
    "\n",
    "*Dựa vào cấu trúc event trong ABI, mình phân loại các trường dữ liệu theo hai loại có thuộc tính **`index`** là `true` và `false`:*\n",
    "- *Với những trường dữ liệu có **`index`** là `true`, theo thứ tự của chúng trong event ABI sẽ tương ứng là các giá trị theo thứ tự trong **`topics`** (trừ `topics[0]` là event hash nhé).* \n",
    "- *Các trường dữ liệu có **index** là `false` theo thứ tự tương ứng với mỗi 32 bytes trong **`data`***\n",
    "\n",
    "*Sau khi đã xác định vị trí các trường dữ liệu, mình dựa vào thuộc tính **`type`** của chúng trong ABI để giải mã:*\n",
    "- *Nếu **`type`** là `address` mình sẽ lấy 20 bytes cuối rồi ghép với `0x`*\n",
    "- *Còn **`type`** là `uint` mình sẽ quy đổi giá trị từ thập lục phân sang thập phân.*\n",
    "\n",
    "(Bạn nào chưa hiểu thì đọc code mình để dễ hiểu hơn nhé, hoặc đọc [document về Event Log Filter](https://web3py.readthedocs.io/en/stable/filters.html?highlight=get_transaction#event-log-filters)).\n",
    "\n",
    "*Dưới đây là dữ liệu cuối cùng thu được.*"
   ]
  },
  {
   "cell_type": "code",
   "execution_count": 18,
   "metadata": {},
   "outputs": [
    {
     "data": {
      "text/plain": [
       "[{'type': 'event',\n",
       "  'event_type': 'DEPOSIT',\n",
       "  'contract_address': '0xe29a55a6aeff5c8b1beede5bcf2f0cb3af8f91f5',\n",
       "  'transaction_hash': '0x4452f763a53dad9fb3a9784a2133a4a960379685d194932155fa6a7217980ad9',\n",
       "  'log_index': 409,\n",
       "  'block_number': 21043181,\n",
       "  'reserve': '0x0e09fabb73bd3ade0a17ecc321fd13a19e81ce82',\n",
       "  'onBehalfOf': '0x7c6defb490b8ffe9379839914b4073c35ea7468a',\n",
       "  'referral': '0',\n",
       "  'user': '0x7c6defb490b8ffe9379839914b4073c35ea7468a',\n",
       "  'amount': '101638034135582611956'},\n",
       " {'type': 'event',\n",
       "  'event_type': 'DEPOSIT',\n",
       "  'contract_address': '0xe29a55a6aeff5c8b1beede5bcf2f0cb3af8f91f5',\n",
       "  'transaction_hash': '0xbddb09a7f95e47bcf469b26f621cb62fa050cf1f4f0cb9678352acf815a15e89',\n",
       "  'log_index': 169,\n",
       "  'block_number': 21043427,\n",
       "  'reserve': '0xe9e7cea3dedca5984780bafc599bd69add087d56',\n",
       "  'onBehalfOf': '0x19ec9e3f7b21dd27598e7ad5aae7dc0db00a806d',\n",
       "  'referral': '0',\n",
       "  'user': '0x19ec9e3f7b21dd27598e7ad5aae7dc0db00a806d',\n",
       "  'amount': '256058331951835542063'},\n",
       " {'type': 'event',\n",
       "  'event_type': 'DEPOSIT',\n",
       "  'contract_address': '0xe29a55a6aeff5c8b1beede5bcf2f0cb3af8f91f5',\n",
       "  'transaction_hash': '0xe1f4c0b8c315089c719d7bb55246a76228ef7eff61f4d76ce4d62303bfb7b7f4',\n",
       "  'log_index': 145,\n",
       "  'block_number': 21043541,\n",
       "  'reserve': '0x0e09fabb73bd3ade0a17ecc321fd13a19e81ce82',\n",
       "  'onBehalfOf': '0x9321d5ba18a9cad47e72ddc0a9c8f59c196644a4',\n",
       "  'referral': '0',\n",
       "  'user': '0x9321d5ba18a9cad47e72ddc0a9c8f59c196644a4',\n",
       "  'amount': '2439186211938395582984'},\n",
       " {'type': 'event',\n",
       "  'event_type': 'BORROW',\n",
       "  'contract_address': '0xe29a55a6aeff5c8b1beede5bcf2f0cb3af8f91f5',\n",
       "  'transaction_hash': '0x41c77a9f7060e4223071646e0fe27635d0588fdd0143aff16ff21f87b5eec435',\n",
       "  'log_index': 183,\n",
       "  'block_number': 21043560,\n",
       "  'reserve': '0x8ac76a51cc950d9822d68b83fe1ad97b32cd580d',\n",
       "  'onBehalfOf': '0x9321d5ba18a9cad47e72ddc0a9c8f59c196644a4',\n",
       "  'referral': '0',\n",
       "  'user': '0x9321d5ba18a9cad47e72ddc0a9c8f59c196644a4',\n",
       "  'amount': '7420135217277553083366',\n",
       "  'borrowRateMode': '2',\n",
       "  'borrowRate': '6042388404096194749408579'},\n",
       " {'type': 'event',\n",
       "  'event_type': 'DEPOSIT',\n",
       "  'contract_address': '0xe29a55a6aeff5c8b1beede5bcf2f0cb3af8f91f5',\n",
       "  'transaction_hash': '0x694e8ae6a14cb404db237212bf064be549ca346f13b5126eded0363d6d9d38e9',\n",
       "  'log_index': 303,\n",
       "  'block_number': 21043593,\n",
       "  'reserve': '0x0e09fabb73bd3ade0a17ecc321fd13a19e81ce82',\n",
       "  'onBehalfOf': '0x9321d5ba18a9cad47e72ddc0a9c8f59c196644a4',\n",
       "  'referral': '0',\n",
       "  'user': '0x9321d5ba18a9cad47e72ddc0a9c8f59c196644a4',\n",
       "  'amount': '1806657860809938247313'},\n",
       " {'type': 'event',\n",
       "  'event_type': 'BORROW',\n",
       "  'contract_address': '0xe29a55a6aeff5c8b1beede5bcf2f0cb3af8f91f5',\n",
       "  'transaction_hash': '0xd15a93675c17a05edfbb40b7a7fd8258f761b82b533fddb3315a778ef7e2b463',\n",
       "  'log_index': 134,\n",
       "  'block_number': 21043618,\n",
       "  'reserve': '0x8ac76a51cc950d9822d68b83fe1ad97b32cd580d',\n",
       "  'onBehalfOf': '0x9321d5ba18a9cad47e72ddc0a9c8f59c196644a4',\n",
       "  'referral': '0',\n",
       "  'user': '0x9321d5ba18a9cad47e72ddc0a9c8f59c196644a4',\n",
       "  'amount': '1500000000000000000000',\n",
       "  'borrowRateMode': '2',\n",
       "  'borrowRate': '6050570499413548173970903'},\n",
       " {'type': 'event',\n",
       "  'event_type': 'DEPOSIT',\n",
       "  'contract_address': '0xe29a55a6aeff5c8b1beede5bcf2f0cb3af8f91f5',\n",
       "  'transaction_hash': '0x81299ecc60cbcff15f0d81d28c3e3403fa205ebb4543338122b0780725ab0868',\n",
       "  'log_index': 228,\n",
       "  'block_number': 21043646,\n",
       "  'reserve': '0x0e09fabb73bd3ade0a17ecc321fd13a19e81ce82',\n",
       "  'onBehalfOf': '0x9321d5ba18a9cad47e72ddc0a9c8f59c196644a4',\n",
       "  'referral': '0',\n",
       "  'user': '0x9321d5ba18a9cad47e72ddc0a9c8f59c196644a4',\n",
       "  'amount': '364982505810856588263'}]"
      ]
     },
     "execution_count": 18,
     "metadata": {},
     "output_type": "execute_result"
    }
   ],
   "source": [
    "event_list"
   ]
  },
  {
   "cell_type": "markdown",
   "metadata": {},
   "source": [
    "#### Thu thập transaction sinh ra deposit event\n",
    "*Mọi người có thể thấy trong dữ liệu block và dữ liệu event đều có một trường `transaction_hash`. Dựa vào nó ta có thể thu thập dữ liệu transaction mình mong muốn. Dưới đây là dữ liệu từ transaction hash của deposit event của block 21031205.*"
   ]
  },
  {
   "cell_type": "code",
   "execution_count": 13,
   "metadata": {},
   "outputs": [
    {
     "data": {
      "text/plain": [
       "AttributeDict({'blockHash': HexBytes('0x68dee16ed601595adeb352f2072879d04f288506e5dcdd44f064b4f862e6bfe4'),\n",
       " 'blockNumber': 21031205,\n",
       " 'from': '0x26417D19dc19a73274B4c97615b310b39017FA57',\n",
       " 'gas': 752442,\n",
       " 'gasPrice': 5000000000,\n",
       " 'hash': HexBytes('0x0ee0f8ee33047ba977e3afd0b0995885b8d304b1aa1f1c6d307099c9ef9206e9'),\n",
       " 'input': '0xe8eda9df0000000000000000000000000e09fabb73bd3ade0a17ecc321fd13a19e81ce8200000000000000000000000000000000000000000000000011746c27769529db00000000000000000000000026417d19dc19a73274b4c97615b310b39017fa570000000000000000000000000000000000000000000000000000000000000000',\n",
       " 'nonce': 476,\n",
       " 'to': '0xE29A55A6AEFf5C8B1beedE5bCF2F0Cb3AF8F91f5',\n",
       " 'transactionIndex': 71,\n",
       " 'value': 0,\n",
       " 'type': '0x0',\n",
       " 'v': 148,\n",
       " 'r': HexBytes('0xedf56947061ff71ad62dfded9fb7ba19fc271d6f52d8df2a207d405ca473da87'),\n",
       " 's': HexBytes('0x34ce34ec26f2a48cc85ba8a759333dd59b6d106597c32039ddc2e9aa942773c8')})"
      ]
     },
     "execution_count": 13,
     "metadata": {},
     "output_type": "execute_result"
    }
   ],
   "source": [
    "web3.eth.get_transaction(\"0x0ee0f8ee33047ba977e3afd0b0995885b8d304b1aa1f1c6d307099c9ef9206e9\")"
   ]
  },
  {
   "cell_type": "markdown",
   "metadata": {},
   "source": [
    "> Note: Đến đây mọi người có thể thắc mắc là thế với một list các transaction hash thì sao? Rất tiếc hiện tại mình chưa thấy hàm nào của web3 py hỗ trợ hoặc có thể do mình tìm chưa kỹ. Tuy nhiên ta có thể cải tiến quá trình bằng cách lấy dữ liệu theo lô (batch) với đa luồng (multi-processing). Kiến thức này hơi nâng cao, mình sẽ hướng dẫn ở một bài thực hành khác phức tạp hơn."
   ]
  },
  {
   "cell_type": "markdown",
   "metadata": {},
   "source": [
    "## Xây dựng thu thập dữ liệu một luồng liên tục\n",
    "*Phần này bonus cho mọi người. Mọi người có thể đọc tiếp hoặc bỏ qua. Nói chung, nó chỉ tổng hợp lại những kiến thức ở trên để xây dựng một con crawler thu thập dữ liệu event liên tục.*"
   ]
  },
  {
   "cell_type": "code",
   "execution_count": 14,
   "metadata": {},
   "outputs": [],
   "source": [
    "from receipt_log_handler import EthReceiptLogHandler\n",
    "\n",
    "def craw_events(\n",
    "    web3, \n",
    "    from_block=0, \n",
    "    to_block=None, \n",
    "    event_abi_file=\"../abi/event_abi.json\", \n",
    "    contract_addresses=[\"0xE29A55A6AEFf5C8B1beedE5bCF2F0Cb3AF8F91f5\"],\n",
    "    block_size=100,\n",
    "    stop = False\n",
    "):\n",
    "    latest_block = web3.eth.blockNumber\n",
    "    if to_block and to_block > latest_block:\n",
    "        to_block=latest_block\n",
    "        print(f\"To_block > latest_block, set to_block = {latest_block}\")\n",
    "    with open(event_abi_file, \"r\") as f:\n",
    "        event_abi = json.loads(f.read())\n",
    "\n",
    "    handler = EthReceiptLogHandler()\n",
    "    # xây dựng thông tin event từ ABI.\n",
    "    event_abi_info = handler.build_list_info_event(event_abi)\n",
    "    # lấy event hash\n",
    "    event_hash = [event_info[1] for event_info in event_abi_info]\n",
    "    # tách lấy event subscriber\n",
    "    event_subscriber = {}\n",
    "    for info in event_abi_info:\n",
    "        event_subscriber[info[1]] = info[0]\n",
    "    \n",
    "    if not to_block:\n",
    "        to_block = web3.eth.blockNumber\n",
    "    \n",
    "    _from = from_block\n",
    "    _to = from_block + block_size\n",
    "    \n",
    "    while True:\n",
    "        if _to > to_block:\n",
    "            _to = to_block\n",
    "                \n",
    "        print(f\"Start crawling data from {_from} to {_to}\")\n",
    "        #create filter\n",
    "        filter_params = {\n",
    "            \"fromBlock\":_from,\n",
    "            \"toBlock\":_to,\n",
    "            \"topics\": [event_hash],\n",
    "            \"address\":contract_addresses\n",
    "        }\n",
    "\n",
    "        event_filter = web3.eth.filter(filter_params)\n",
    "        events = event_filter.get_all_entries()\n",
    "        event_list = []\n",
    "        for event in events:\n",
    "            log = handler.web3_dict_to_receipt_log(event)\n",
    "            eth_event = handler.extract_event_from_log(log, event_subscriber[log.topics[0]])\n",
    "            if eth_event is not None:\n",
    "                eth_event_dict = handler.eth_event_to_dict(eth_event)\n",
    "                print(\"Event data:\\n\", eth_event_dict)\n",
    "\n",
    "        web3.eth.uninstallFilter(event_filter.filter_id)\n",
    "        if _to == to_block:\n",
    "            if stop:\n",
    "                print(\"Stop crawling data...\")\n",
    "                break\n",
    "            else:\n",
    "                to_block = web3.eth.blockNumber\n",
    "                print(f\"Get latest block {to_block}\")\n",
    "        \n",
    "        \n",
    "        _from = _to\n",
    "        _to += block_size"
   ]
  },
  {
   "cell_type": "markdown",
   "metadata": {},
   "source": [
    "*Mọi người có thể đặt biến `stop = False` để cho chạy liên tục. Có thể sửa hàm để xuất dữ liệu ra file*"
   ]
  },
  {
   "cell_type": "code",
   "execution_count": 15,
   "metadata": {},
   "outputs": [
    {
     "name": "stdout",
     "output_type": "stream",
     "text": [
      "Start crawling data from 21042695 to 21042795\n",
      "Start crawling data from 21042795 to 21042895\n",
      "Start crawling data from 21042895 to 21042995\n",
      "Event data:\n",
      " {'type': 'event', 'event_type': 'DEPOSIT', 'contract_address': '0xe29a55a6aeff5c8b1beede5bcf2f0cb3af8f91f5', 'transaction_hash': '0x9d7f541831a499d00815147057d593cb4894cb3c74cd1c267714378dd808fe96', 'log_index': 148, 'block_number': 21042985, 'reserve': '0x8ac76a51cc950d9822d68b83fe1ad97b32cd580d', 'onBehalfOf': '0x19ec9e3f7b21dd27598e7ad5aae7dc0db00a806d', 'referral': '0', 'user': '0x19ec9e3f7b21dd27598e7ad5aae7dc0db00a806d', 'amount': '1736000000000000000000'}\n",
      "Start crawling data from 21042995 to 21043095\n",
      "Start crawling data from 21043095 to 21043195\n",
      "Event data:\n",
      " {'type': 'event', 'event_type': 'DEPOSIT', 'contract_address': '0xe29a55a6aeff5c8b1beede5bcf2f0cb3af8f91f5', 'transaction_hash': '0x4452f763a53dad9fb3a9784a2133a4a960379685d194932155fa6a7217980ad9', 'log_index': 409, 'block_number': 21043181, 'reserve': '0x0e09fabb73bd3ade0a17ecc321fd13a19e81ce82', 'onBehalfOf': '0x7c6defb490b8ffe9379839914b4073c35ea7468a', 'referral': '0', 'user': '0x7c6defb490b8ffe9379839914b4073c35ea7468a', 'amount': '101638034135582611956'}\n",
      "Start crawling data from 21043195 to 21043295\n",
      "Start crawling data from 21043295 to 21043395\n",
      "Start crawling data from 21043395 to 21043495\n",
      "Event data:\n",
      " {'type': 'event', 'event_type': 'DEPOSIT', 'contract_address': '0xe29a55a6aeff5c8b1beede5bcf2f0cb3af8f91f5', 'transaction_hash': '0xbddb09a7f95e47bcf469b26f621cb62fa050cf1f4f0cb9678352acf815a15e89', 'log_index': 169, 'block_number': 21043427, 'reserve': '0xe9e7cea3dedca5984780bafc599bd69add087d56', 'onBehalfOf': '0x19ec9e3f7b21dd27598e7ad5aae7dc0db00a806d', 'referral': '0', 'user': '0x19ec9e3f7b21dd27598e7ad5aae7dc0db00a806d', 'amount': '256058331951835542063'}\n",
      "Start crawling data from 21043495 to 21043595\n",
      "Event data:\n",
      " {'type': 'event', 'event_type': 'DEPOSIT', 'contract_address': '0xe29a55a6aeff5c8b1beede5bcf2f0cb3af8f91f5', 'transaction_hash': '0xe1f4c0b8c315089c719d7bb55246a76228ef7eff61f4d76ce4d62303bfb7b7f4', 'log_index': 145, 'block_number': 21043541, 'reserve': '0x0e09fabb73bd3ade0a17ecc321fd13a19e81ce82', 'onBehalfOf': '0x9321d5ba18a9cad47e72ddc0a9c8f59c196644a4', 'referral': '0', 'user': '0x9321d5ba18a9cad47e72ddc0a9c8f59c196644a4', 'amount': '2439186211938395582984'}\n",
      "Event data:\n",
      " {'type': 'event', 'event_type': 'BORROW', 'contract_address': '0xe29a55a6aeff5c8b1beede5bcf2f0cb3af8f91f5', 'transaction_hash': '0x41c77a9f7060e4223071646e0fe27635d0588fdd0143aff16ff21f87b5eec435', 'log_index': 183, 'block_number': 21043560, 'reserve': '0x8ac76a51cc950d9822d68b83fe1ad97b32cd580d', 'onBehalfOf': '0x9321d5ba18a9cad47e72ddc0a9c8f59c196644a4', 'referral': '0', 'user': '0x9321d5ba18a9cad47e72ddc0a9c8f59c196644a4', 'amount': '7420135217277553083366', 'borrowRateMode': '2', 'borrowRate': '6042388404096194749408579'}\n",
      "Event data:\n",
      " {'type': 'event', 'event_type': 'DEPOSIT', 'contract_address': '0xe29a55a6aeff5c8b1beede5bcf2f0cb3af8f91f5', 'transaction_hash': '0x694e8ae6a14cb404db237212bf064be549ca346f13b5126eded0363d6d9d38e9', 'log_index': 303, 'block_number': 21043593, 'reserve': '0x0e09fabb73bd3ade0a17ecc321fd13a19e81ce82', 'onBehalfOf': '0x9321d5ba18a9cad47e72ddc0a9c8f59c196644a4', 'referral': '0', 'user': '0x9321d5ba18a9cad47e72ddc0a9c8f59c196644a4', 'amount': '1806657860809938247313'}\n",
      "Start crawling data from 21043595 to 21043695\n",
      "Event data:\n",
      " {'type': 'event', 'event_type': 'BORROW', 'contract_address': '0xe29a55a6aeff5c8b1beede5bcf2f0cb3af8f91f5', 'transaction_hash': '0xd15a93675c17a05edfbb40b7a7fd8258f761b82b533fddb3315a778ef7e2b463', 'log_index': 134, 'block_number': 21043618, 'reserve': '0x8ac76a51cc950d9822d68b83fe1ad97b32cd580d', 'onBehalfOf': '0x9321d5ba18a9cad47e72ddc0a9c8f59c196644a4', 'referral': '0', 'user': '0x9321d5ba18a9cad47e72ddc0a9c8f59c196644a4', 'amount': '1500000000000000000000', 'borrowRateMode': '2', 'borrowRate': '6050570499413548173970903'}\n",
      "Event data:\n",
      " {'type': 'event', 'event_type': 'DEPOSIT', 'contract_address': '0xe29a55a6aeff5c8b1beede5bcf2f0cb3af8f91f5', 'transaction_hash': '0x81299ecc60cbcff15f0d81d28c3e3403fa205ebb4543338122b0780725ab0868', 'log_index': 228, 'block_number': 21043646, 'reserve': '0x0e09fabb73bd3ade0a17ecc321fd13a19e81ce82', 'onBehalfOf': '0x9321d5ba18a9cad47e72ddc0a9c8f59c196644a4', 'referral': '0', 'user': '0x9321d5ba18a9cad47e72ddc0a9c8f59c196644a4', 'amount': '364982505810856588263'}\n",
      "Stop crawling data...\n"
     ]
    }
   ],
   "source": [
    "craw_events(\n",
    "    web3, \n",
    "    from_block=21042695, \n",
    "    to_block=21043695,\n",
    "    event_abi_file=\"../abi/event_abi.json\", \n",
    "    contract_addresses=[\"0xE29A55A6AEFf5C8B1beedE5bCF2F0Cb3AF8F91f5\"],\n",
    "    block_size=100,\n",
    "    stop = True\n",
    ")"
   ]
  },
  {
   "cell_type": "markdown",
   "metadata": {},
   "source": [
    "# BTVN\n",
    "\n",
    "Chú ý: Tất cả dữ liệu crawl được lưu vào file json, theo format trong thư mục ```btvn_examples```\n",
    "\n",
    "## Chung\n",
    "1. Tính số transaction trung bình mỗi block của 100 blocks mới nhất.\n",
    "2. Cho địa chỉ token `0x7083609fCE4d1d8Dc0C979AAb8c869Ea2C873402`, dựa vào địa chỉ token và ERC_20 abi trong `abi/erc_20.json` thực hiện các nhiệm vụ sau:<br>\n",
    "    a. Thu thập Transfer event của token đó trong 1000 blocks gần nhất. <br>\n",
    "    b. Tìm decimals của token.<br>\n",
    "    c. Tính lượng cung (supply) của token đó. <br>\n",
    "    d. Tính số dư (balance) token mới nhất của một địa chỉ ví thực hiện nhiều Transfer event nhất trong tập dữ liệu Transfer event đã crawl (gợi ý: địa chỉ này nằm trong trường `_from` của event). <br>\n",
    "    e. Tính số dư token mới nhất trong địa chỉ ví là địa chỉ ví nhận trong nhiều Transfer event nhất trong tập dữ liệu Transfer event đã crawl (gợi ý: địa chỉ này nằm trong trường `_to` của event). <br>\n",
    "    f. Tìm ký hiệu (symbol) và tên (name) của token.\n",
    "\n",
    "Chú ý: Ngoài thông tin trả lời, cần ghi rõ lại start - end block mà mình thu thập dữ liệu, địa chỉ token và ví thu thập. Các giá trị lượng cung và số dư phải chia cho decimals của token.\n",
    "\n",
    "## AAVE Team\n",
    "Làm lại các bước trong bài thực hành trên với [Geist protocol](https://docs.geist.finance/useful-info/deployments-addresses) là một lending pool tương tự như Valas trên mạng Fantom. Ngoài ra, thực hiện thêm một số bước sau. (Đọc chú ý phía dưới trước khi làm)\n",
    "1. Crawl dữ liệu event theo 5 loại: Deposit, Borrow, Withdraw, Repay và Liquidate trong 100.000 blocks gần nhất.\n",
    "2. Crawl dữ liệu transaction của những event đã crawl. \n",
    "3. Lấy thông tin địa chỉ token được thực hiện giao dịch Deposit và Borrow nhiều nhất (gợi ý: địa chỉ token nằm trong trường `reserve` trong event, nếu số event của các token bằng nhau thì lấy token bất kỳ)\n",
    "4. Lấy thông tin địa chỉ thực hiện transaction nhiều nhất trong lending pool (gợi ý: địa chỉ ví nằm trong trường `from` của dữ liệu transaction, nếu số transaction của các địa chỉ bằng nhau thì lấy địa chỉ bất kỳ).\n",
    "5. Dựa vào địa chỉ Oracle ([Aave oracle](https://docs.geist.finance/useful-info/deployments-addresses)) và `abi/oracle_abi.json` tìm giá (asset price) của token ở câu 3.\n",
    "\n",
    "Chú ý: Các hàm lấy dữ liệu đã có trong `abi/lending_pool_aave_v2.json`. Dựa vào cấu trúc dữ liệu trả về trong abi, chỉ ra ý nghĩa của từng trường dữ liệu crawl về trong câu 3,4.\n",
    "\n",
    "## Uniswap Team\n",
    "Dựa vào masterchef V2 [address](https://docs.pancakeswap.finance/code/smart-contracts/main-staking-masterchef-contract), `abi/masterchef_abi.json` và pid = 3 của pancakeswap (tương tự như uniswap) trên bsc. Thực hiện các nhiệm vụ sau. (Đọc chú ý trước khi làm)\n",
    "\n",
    "1. Lâý thông tin của lp_token từ id (gợi ý: một lp_token cũng tương tự như một pool, vậy nên lấy thông tin lp_token có thể thay bằng lấy thông tin của pool).\n",
    "2. Tìm địa chỉ lp_token.\n",
    "3. Dựa vào `abi/lp_token_abi.json` và địa chỉ lp_token tìm được lấy địa chỉ cặp swap và thông tin về reserves của cặp swap, từ địa chỉ lp_token và abi `abi/lp_token_abi.json`.\n",
    "4. Crawl dữ liệu event Swap, Approval, Burn, Mint và Transfer của lp_token trong 1000 blocks gần nhất với ABI `abi/lp_token_abi.json`.\n",
    "5. Crawl dữ liệu transaction tương ứng với dữ liệu events.\n",
    "6. Tìm user giao dịch nhiều nhất (gợi ý: địa chỉ user là trường `from` trong transaction)\n",
    "7. Tìm thông tin của user ở câu 6 dựa trên địa chỉ masterchef và abi `abi/masterchef_abi.json`.\n",
    "\n",
    "Chú ý: Dựa vào cấu trúc dữ liệu trả về trong abi, chỉ ra ý nghĩa của từng trường dữ liệu crawl về trong câu 1,7."
   ]
  }
 ],
 "metadata": {
  "kernelspec": {
   "display_name": "venv",
   "language": "python",
   "name": "venv"
  },
  "language_info": {
   "codemirror_mode": {
    "name": "ipython",
    "version": 3
   },
   "file_extension": ".py",
   "mimetype": "text/x-python",
   "name": "python",
   "nbconvert_exporter": "python",
   "pygments_lexer": "ipython3",
   "version": "3.10.6"
  }
 },
 "nbformat": 4,
 "nbformat_minor": 4
}
